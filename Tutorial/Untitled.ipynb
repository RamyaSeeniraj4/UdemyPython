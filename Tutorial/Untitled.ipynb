{
 "cells": [
  {
   "cell_type": "markdown",
   "id": "bcf89254",
   "metadata": {},
   "source": [
    "# Python Basics\n"
   ]
  },
  {
   "cell_type": "code",
   "execution_count": 1,
   "id": "1c2b835f",
   "metadata": {},
   "outputs": [],
   "source": [
    "# Variables\n",
    "# python is a dynamically typed language"
   ]
  },
  {
   "cell_type": "code",
   "execution_count": null,
   "id": "8238b9df",
   "metadata": {},
   "outputs": [],
   "source": []
  }
 ],
 "metadata": {
  "kernelspec": {
   "display_name": "Python 3 (ipykernel)",
   "language": "python",
   "name": "python3"
  },
  "language_info": {
   "codemirror_mode": {
    "name": "ipython",
    "version": 3
   },
   "file_extension": ".py",
   "mimetype": "text/x-python",
   "name": "python",
   "nbconvert_exporter": "python",
   "pygments_lexer": "ipython3",
   "version": "3.9.7"
  }
 },
 "nbformat": 4,
 "nbformat_minor": 5
}
