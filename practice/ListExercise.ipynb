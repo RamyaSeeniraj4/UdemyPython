{
 "cells": [
  {
   "cell_type": "code",
   "execution_count": 1,
   "id": "940369f7",
   "metadata": {},
   "outputs": [],
   "source": [
    "my_list=[1,'a',0.8]"
   ]
  },
  {
   "cell_type": "code",
   "execution_count": 2,
   "id": "9fbde90c",
   "metadata": {},
   "outputs": [
    {
     "data": {
      "text/plain": [
       "[1, 'a', 0.8]"
      ]
     },
     "execution_count": 2,
     "metadata": {},
     "output_type": "execute_result"
    }
   ],
   "source": [
    "my_list"
   ]
  },
  {
   "cell_type": "code",
   "execution_count": null,
   "id": "b5c8923f",
   "metadata": {},
   "outputs": [],
   "source": []
  },
  {
   "cell_type": "code",
   "execution_count": 3,
   "id": "5bd5916c",
   "metadata": {},
   "outputs": [
    {
     "data": {
      "text/plain": [
       "3"
      ]
     },
     "execution_count": 3,
     "metadata": {},
     "output_type": "execute_result"
    }
   ],
   "source": [
    "len(my_list)"
   ]
  },
  {
   "cell_type": "code",
   "execution_count": 4,
   "id": "6420b419",
   "metadata": {},
   "outputs": [
    {
     "data": {
      "text/plain": [
       "1"
      ]
     },
     "execution_count": 4,
     "metadata": {},
     "output_type": "execute_result"
    }
   ],
   "source": [
    "my_list[0]"
   ]
  },
  {
   "cell_type": "code",
   "execution_count": 5,
   "id": "c7d38706",
   "metadata": {},
   "outputs": [
    {
     "data": {
      "text/plain": [
       "['a', 0.8]"
      ]
     },
     "execution_count": 5,
     "metadata": {},
     "output_type": "execute_result"
    }
   ],
   "source": [
    "my_list[1:]"
   ]
  },
  {
   "cell_type": "code",
   "execution_count": 6,
   "id": "801cc525",
   "metadata": {},
   "outputs": [],
   "source": [
    "my_list2=['one','two']"
   ]
  },
  {
   "cell_type": "code",
   "execution_count": 7,
   "id": "d5dcb139",
   "metadata": {},
   "outputs": [],
   "source": [
    "my_list3=my_list+my_list2"
   ]
  },
  {
   "cell_type": "code",
   "execution_count": 8,
   "id": "ce0e494d",
   "metadata": {},
   "outputs": [
    {
     "data": {
      "text/plain": [
       "[1, 'a', 0.8, 'one', 'two']"
      ]
     },
     "execution_count": 8,
     "metadata": {},
     "output_type": "execute_result"
    }
   ],
   "source": [
    "my_list3"
   ]
  },
  {
   "cell_type": "code",
   "execution_count": 9,
   "id": "dc8885f8",
   "metadata": {},
   "outputs": [
    {
     "data": {
      "text/plain": [
       "['a', 'one']"
      ]
     },
     "execution_count": 9,
     "metadata": {},
     "output_type": "execute_result"
    }
   ],
   "source": [
    "my_list3[1:4:2]"
   ]
  },
  {
   "cell_type": "code",
   "execution_count": 10,
   "id": "23e031d7",
   "metadata": {},
   "outputs": [],
   "source": [
    "my_list[0]='five'"
   ]
  },
  {
   "cell_type": "code",
   "execution_count": null,
   "id": "c422dfe7",
   "metadata": {},
   "outputs": [],
   "source": []
  },
  {
   "cell_type": "code",
   "execution_count": 12,
   "id": "731f852e",
   "metadata": {},
   "outputs": [
    {
     "data": {
      "text/plain": [
       "[1, 'a', 0.8, 'one', 'two']"
      ]
     },
     "execution_count": 12,
     "metadata": {},
     "output_type": "execute_result"
    }
   ],
   "source": [
    "my_list3"
   ]
  },
  {
   "cell_type": "code",
   "execution_count": 14,
   "id": "9cf37b7b",
   "metadata": {},
   "outputs": [],
   "source": [
    "my_list[2]='jkl'"
   ]
  },
  {
   "cell_type": "code",
   "execution_count": 15,
   "id": "d1f88ffa",
   "metadata": {},
   "outputs": [],
   "source": [
    "my_list3[4]='kkk'"
   ]
  },
  {
   "cell_type": "code",
   "execution_count": 16,
   "id": "27bb0016",
   "metadata": {},
   "outputs": [
    {
     "data": {
      "text/plain": [
       "[1, 'a', 0.8, 'one', 'kkk']"
      ]
     },
     "execution_count": 16,
     "metadata": {},
     "output_type": "execute_result"
    }
   ],
   "source": [
    "my_list3"
   ]
  },
  {
   "cell_type": "code",
   "execution_count": 17,
   "id": "12e1f353",
   "metadata": {},
   "outputs": [],
   "source": [
    "my_list3.append(\"six\")"
   ]
  },
  {
   "cell_type": "code",
   "execution_count": 18,
   "id": "0dbc092d",
   "metadata": {},
   "outputs": [
    {
     "data": {
      "text/plain": [
       "[1, 'a', 0.8, 'one', 'kkk', 'six']"
      ]
     },
     "execution_count": 18,
     "metadata": {},
     "output_type": "execute_result"
    }
   ],
   "source": [
    "my_list3"
   ]
  },
  {
   "cell_type": "code",
   "execution_count": 22,
   "id": "1d751632",
   "metadata": {},
   "outputs": [
    {
     "data": {
      "text/plain": [
       "'a'"
      ]
     },
     "execution_count": 22,
     "metadata": {},
     "output_type": "execute_result"
    }
   ],
   "source": [
    "my_list.pop()\n"
   ]
  },
  {
   "cell_type": "code",
   "execution_count": 23,
   "id": "e4af7b61",
   "metadata": {},
   "outputs": [
    {
     "data": {
      "text/plain": [
       "'one'"
      ]
     },
     "execution_count": 23,
     "metadata": {},
     "output_type": "execute_result"
    }
   ],
   "source": [
    "my_list2.pop()\n"
   ]
  },
  {
   "cell_type": "code",
   "execution_count": 24,
   "id": "6fdbecc1",
   "metadata": {},
   "outputs": [
    {
     "data": {
      "text/plain": [
       "[1, 'a', 0.8, 'one', 'kkk', 'six']"
      ]
     },
     "execution_count": 24,
     "metadata": {},
     "output_type": "execute_result"
    }
   ],
   "source": [
    "my_list3"
   ]
  },
  {
   "cell_type": "code",
   "execution_count": 25,
   "id": "f310496d",
   "metadata": {},
   "outputs": [
    {
     "data": {
      "text/plain": [
       "['five']"
      ]
     },
     "execution_count": 25,
     "metadata": {},
     "output_type": "execute_result"
    }
   ],
   "source": [
    "my_list"
   ]
  },
  {
   "cell_type": "code",
   "execution_count": 26,
   "id": "788d3e16",
   "metadata": {},
   "outputs": [
    {
     "data": {
      "text/plain": [
       "'six'"
      ]
     },
     "execution_count": 26,
     "metadata": {},
     "output_type": "execute_result"
    }
   ],
   "source": [
    "my_list3.pop(-1)"
   ]
  },
  {
   "cell_type": "code",
   "execution_count": 31,
   "id": "e951d68a",
   "metadata": {},
   "outputs": [],
   "source": [
    "new_List =['q','b','l','z']\n",
    "num_list=[4,2,9.5]"
   ]
  },
  {
   "cell_type": "code",
   "execution_count": 32,
   "id": "e14f1405",
   "metadata": {},
   "outputs": [],
   "source": [
    "new_List.sort()"
   ]
  },
  {
   "cell_type": "code",
   "execution_count": 33,
   "id": "6d1cd504",
   "metadata": {},
   "outputs": [
    {
     "data": {
      "text/plain": [
       "['b', 'l', 'q', 'z']"
      ]
     },
     "execution_count": 33,
     "metadata": {},
     "output_type": "execute_result"
    }
   ],
   "source": [
    "new_List"
   ]
  },
  {
   "cell_type": "code",
   "execution_count": 34,
   "id": "450c22ac",
   "metadata": {},
   "outputs": [],
   "source": [
    "new_List.reverse()"
   ]
  },
  {
   "cell_type": "code",
   "execution_count": 35,
   "id": "07b8865e",
   "metadata": {},
   "outputs": [
    {
     "data": {
      "text/plain": [
       "['z', 'q', 'l', 'b']"
      ]
     },
     "execution_count": 35,
     "metadata": {},
     "output_type": "execute_result"
    }
   ],
   "source": [
    "new_List"
   ]
  },
  {
   "cell_type": "code",
   "execution_count": 36,
   "id": "e4df68fd",
   "metadata": {},
   "outputs": [],
   "source": [
    "num_list.reverse()"
   ]
  },
  {
   "cell_type": "code",
   "execution_count": 37,
   "id": "1bb523d9",
   "metadata": {},
   "outputs": [
    {
     "data": {
      "text/plain": [
       "[9.5, 2, 4]"
      ]
     },
     "execution_count": 37,
     "metadata": {},
     "output_type": "execute_result"
    }
   ],
   "source": [
    "num_list"
   ]
  },
  {
   "cell_type": "code",
   "execution_count": 41,
   "id": "58830d8f",
   "metadata": {},
   "outputs": [],
   "source": [
    "num_list.append(20)"
   ]
  },
  {
   "cell_type": "code",
   "execution_count": 42,
   "id": "49af267b",
   "metadata": {},
   "outputs": [],
   "source": [
    "num_list.append(26)\n",
    "num_list.append(23)\n",
    "num_list.append(11)"
   ]
  },
  {
   "cell_type": "code",
   "execution_count": 43,
   "id": "77ec8928",
   "metadata": {},
   "outputs": [
    {
     "data": {
      "text/plain": [
       "[9.5, 2, 4, 5, 20, 26, 23, 11]"
      ]
     },
     "execution_count": 43,
     "metadata": {},
     "output_type": "execute_result"
    }
   ],
   "source": [
    "num_list"
   ]
  },
  {
   "cell_type": "code",
   "execution_count": 58,
   "id": "10fffe54",
   "metadata": {},
   "outputs": [],
   "source": [
    "num_list.sort()"
   ]
  },
  {
   "cell_type": "code",
   "execution_count": 69,
   "id": "2e5b54b7",
   "metadata": {},
   "outputs": [],
   "source": [
    "num_arrr = sorted(num_list)[::-1]3 "
   ]
  },
  {
   "cell_type": "code",
   "execution_count": 70,
   "id": "e7681f97",
   "metadata": {},
   "outputs": [
    {
     "name": "stdout",
     "output_type": "stream",
     "text": [
      "[26, 23, 20, 11, 9.5, 5, 4, 2]\n"
     ]
    }
   ],
   "source": [
    "print (num_arrr)"
   ]
  },
  {
   "cell_type": "code",
   "execution_count": null,
   "id": "23bc4351",
   "metadata": {},
   "outputs": [],
   "source": []
  }
 ],
 "metadata": {
  "kernelspec": {
   "display_name": "Python 3 (ipykernel)",
   "language": "python",
   "name": "python3"
  },
  "language_info": {
   "codemirror_mode": {
    "name": "ipython",
    "version": 3
   },
   "file_extension": ".py",
   "mimetype": "text/x-python",
   "name": "python",
   "nbconvert_exporter": "python",
   "pygments_lexer": "ipython3",
   "version": "3.9.7"
  }
 },
 "nbformat": 4,
 "nbformat_minor": 5
}
