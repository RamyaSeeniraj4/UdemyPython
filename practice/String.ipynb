{
 "cells": [
  {
   "cell_type": "code",
   "execution_count": 1,
   "id": "ca82ebff",
   "metadata": {},
   "outputs": [
    {
     "data": {
      "text/plain": [
       "'hello'"
      ]
     },
     "execution_count": 1,
     "metadata": {},
     "output_type": "execute_result"
    }
   ],
   "source": [
    "\"hello\"\n"
   ]
  },
  {
   "cell_type": "code",
   "execution_count": 2,
   "id": "3d0891b1",
   "metadata": {},
   "outputs": [
    {
     "data": {
      "text/plain": [
       "'helllo'"
      ]
     },
     "execution_count": 2,
     "metadata": {},
     "output_type": "execute_result"
    }
   ],
   "source": [
    "'helllo'"
   ]
  },
  {
   "cell_type": "code",
   "execution_count": 3,
   "id": "f1e3ccf8",
   "metadata": {},
   "outputs": [
    {
     "data": {
      "text/plain": [
       "'I am Ramya'"
      ]
     },
     "execution_count": 3,
     "metadata": {},
     "output_type": "execute_result"
    }
   ],
   "source": [
    "\"I am Ramya\""
   ]
  },
  {
   "cell_type": "code",
   "execution_count": 4,
   "id": "b5ac9517",
   "metadata": {},
   "outputs": [
    {
     "ename": "SyntaxError",
     "evalue": "invalid syntax (Temp/ipykernel_11996/3909833589.py, line 1)",
     "output_type": "error",
     "traceback": [
      "\u001b[1;36m  File \u001b[1;32m\"C:\\Users\\ramya\\AppData\\Local\\Temp/ipykernel_11996/3909833589.py\"\u001b[1;36m, line \u001b[1;32m1\u001b[0m\n\u001b[1;33m    \"I am \"beautiful\"\"\u001b[0m\n\u001b[1;37m           ^\u001b[0m\n\u001b[1;31mSyntaxError\u001b[0m\u001b[1;31m:\u001b[0m invalid syntax\n"
     ]
    }
   ],
   "source": [
    "\"I am \"beautiful\"\""
   ]
  },
  {
   "cell_type": "code",
   "execution_count": 5,
   "id": "63391851",
   "metadata": {},
   "outputs": [
    {
     "data": {
      "text/plain": [
       "'I am as \"beautiful\" as flower'"
      ]
     },
     "execution_count": 5,
     "metadata": {},
     "output_type": "execute_result"
    }
   ],
   "source": [
    "'I am as \"beautiful\" as flower'"
   ]
  },
  {
   "cell_type": "code",
   "execution_count": 6,
   "id": "ac558bdb",
   "metadata": {},
   "outputs": [
    {
     "data": {
      "text/plain": [
       "\"I can't lie\""
      ]
     },
     "execution_count": 6,
     "metadata": {},
     "output_type": "execute_result"
    }
   ],
   "source": [
    "\"I can't lie\""
   ]
  },
  {
   "cell_type": "code",
   "execution_count": 7,
   "id": "9f7ab8d0",
   "metadata": {},
   "outputs": [
    {
     "data": {
      "text/plain": [
       "'hello 1'"
      ]
     },
     "execution_count": 7,
     "metadata": {},
     "output_type": "execute_result"
    }
   ],
   "source": [
    "\"hello 1\"\n"
   ]
  },
  {
   "cell_type": "code",
   "execution_count": 8,
   "id": "b43ce10e",
   "metadata": {},
   "outputs": [
    {
     "data": {
      "text/plain": [
       "'hello 2'"
      ]
     },
     "execution_count": 8,
     "metadata": {},
     "output_type": "execute_result"
    }
   ],
   "source": [
    "\"hello 1\"\n",
    "'hello 2'"
   ]
  },
  {
   "cell_type": "code",
   "execution_count": 11,
   "id": "4524a90f",
   "metadata": {},
   "outputs": [
    {
     "name": "stdout",
     "output_type": "stream",
     "text": [
      "hello 1\n",
      "hello 2\n"
     ]
    }
   ],
   "source": [
    "print (\"hello 1\") \n",
    "print ('hello 2')"
   ]
  },
  {
   "cell_type": "code",
   "execution_count": 12,
   "id": "aa5c15ac",
   "metadata": {},
   "outputs": [
    {
     "name": "stdout",
     "output_type": "stream",
     "text": [
      "hello \n",
      "world\n"
     ]
    }
   ],
   "source": [
    "print('hello \\nworld')"
   ]
  },
  {
   "cell_type": "code",
   "execution_count": 13,
   "id": "4e60157b",
   "metadata": {},
   "outputs": [
    {
     "data": {
      "text/plain": [
       "'hello \\nworld2'"
      ]
     },
     "execution_count": 13,
     "metadata": {},
     "output_type": "execute_result"
    }
   ],
   "source": [
    "\"hello \\nworld2\""
   ]
  },
  {
   "cell_type": "code",
   "execution_count": 14,
   "id": "43fd739d",
   "metadata": {},
   "outputs": [
    {
     "data": {
      "text/plain": [
       "5"
      ]
     },
     "execution_count": 14,
     "metadata": {},
     "output_type": "execute_result"
    }
   ],
   "source": [
    "len('hello')"
   ]
  },
  {
   "cell_type": "code",
   "execution_count": 15,
   "id": "56a30861",
   "metadata": {},
   "outputs": [
    {
     "data": {
      "text/plain": [
       "10"
      ]
     },
     "execution_count": 15,
     "metadata": {},
     "output_type": "execute_result"
    }
   ],
   "source": [
    "len(\"I am Ramya\")"
   ]
  },
  {
   "cell_type": "code",
   "execution_count": null,
   "id": "6a63c15b",
   "metadata": {},
   "outputs": [],
   "source": []
  }
 ],
 "metadata": {
  "kernelspec": {
   "display_name": "Python 3 (ipykernel)",
   "language": "python",
   "name": "python3"
  },
  "language_info": {
   "codemirror_mode": {
    "name": "ipython",
    "version": 3
   },
   "file_extension": ".py",
   "mimetype": "text/x-python",
   "name": "python",
   "nbconvert_exporter": "python",
   "pygments_lexer": "ipython3",
   "version": "3.9.7"
  }
 },
 "nbformat": 4,
 "nbformat_minor": 5
}
