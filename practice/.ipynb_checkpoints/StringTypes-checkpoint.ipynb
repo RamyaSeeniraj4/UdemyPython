{
 "cells": [
  {
   "cell_type": "code",
   "execution_count": 34,
   "id": "5b64bf90",
   "metadata": {},
   "outputs": [],
   "source": [
    "name='sam'\n"
   ]
  },
  {
   "cell_type": "code",
   "execution_count": 35,
   "id": "a11f9bab",
   "metadata": {},
   "outputs": [
    {
     "data": {
      "text/plain": [
       "'sam'"
      ]
     },
     "execution_count": 35,
     "metadata": {},
     "output_type": "execute_result"
    }
   ],
   "source": [
    "name"
   ]
  },
  {
   "cell_type": "code",
   "execution_count": 36,
   "id": "34e10665",
   "metadata": {},
   "outputs": [
    {
     "data": {
      "text/plain": [
       "'am'"
      ]
     },
     "execution_count": 36,
     "metadata": {},
     "output_type": "execute_result"
    }
   ],
   "source": [
    "last_letter=name[1:]\n",
    "last_letter"
   ]
  },
  {
   "cell_type": "code",
   "execution_count": null,
   "id": "fe7a6db9",
   "metadata": {},
   "outputs": [],
   "source": []
  },
  {
   "cell_type": "code",
   "execution_count": 37,
   "id": "f2380a2b",
   "metadata": {},
   "outputs": [
    {
     "data": {
      "text/plain": [
       "'Pam'"
      ]
     },
     "execution_count": 37,
     "metadata": {},
     "output_type": "execute_result"
    }
   ],
   "source": [
    "'P'+last_letter\n"
   ]
  },
  {
   "cell_type": "code",
   "execution_count": 38,
   "id": "cbaa0c0f",
   "metadata": {},
   "outputs": [],
   "source": [
    "x='Hello Word'"
   ]
  },
  {
   "cell_type": "code",
   "execution_count": 39,
   "id": "dce6412e",
   "metadata": {},
   "outputs": [],
   "source": [
    "x=x+\"Beautigul\""
   ]
  },
  {
   "cell_type": "code",
   "execution_count": 40,
   "id": "5108747d",
   "metadata": {},
   "outputs": [
    {
     "data": {
      "text/plain": [
       "'Hello WordBeautigul'"
      ]
     },
     "execution_count": 40,
     "metadata": {},
     "output_type": "execute_result"
    }
   ],
   "source": [
    "x"
   ]
  },
  {
   "cell_type": "code",
   "execution_count": null,
   "id": "6827e96e",
   "metadata": {},
   "outputs": [],
   "source": []
  },
  {
   "cell_type": "code",
   "execution_count": null,
   "id": "ef182e84",
   "metadata": {},
   "outputs": [],
   "source": []
  },
  {
   "cell_type": "code",
   "execution_count": null,
   "id": "9374acd3",
   "metadata": {},
   "outputs": [],
   "source": [
    "\n"
   ]
  },
  {
   "cell_type": "code",
   "execution_count": 44,
   "id": "1939f459",
   "metadata": {},
   "outputs": [
    {
     "data": {
      "text/plain": [
       "'p'"
      ]
     },
     "execution_count": 44,
     "metadata": {},
     "output_type": "execute_result"
    }
   ],
   "source": [
    "letter='p'\n",
    "letter"
   ]
  },
  {
   "cell_type": "code",
   "execution_count": 45,
   "id": "d359d6a6",
   "metadata": {},
   "outputs": [
    {
     "data": {
      "text/plain": [
       "'ppppppppp'"
      ]
     },
     "execution_count": 45,
     "metadata": {},
     "output_type": "execute_result"
    }
   ],
   "source": [
    "letter *9"
   ]
  },
  {
   "cell_type": "code",
   "execution_count": 46,
   "id": "5cfe5a18",
   "metadata": {},
   "outputs": [],
   "source": [
    "x='hello'"
   ]
  },
  {
   "cell_type": "code",
   "execution_count": 47,
   "id": "8c1cd417",
   "metadata": {},
   "outputs": [
    {
     "data": {
      "text/plain": [
       "<function str.count>"
      ]
     },
     "execution_count": 47,
     "metadata": {},
     "output_type": "execute_result"
    }
   ],
   "source": [
    "x.count"
   ]
  },
  {
   "cell_type": "code",
   "execution_count": 48,
   "id": "0f5e11ab",
   "metadata": {},
   "outputs": [
    {
     "data": {
      "text/plain": [
       "<function str.islower()>"
      ]
     },
     "execution_count": 48,
     "metadata": {},
     "output_type": "execute_result"
    }
   ],
   "source": [
    "x.islower"
   ]
  },
  {
   "cell_type": "code",
   "execution_count": 49,
   "id": "894b3ee3",
   "metadata": {},
   "outputs": [
    {
     "data": {
      "text/plain": [
       "'hello'"
      ]
     },
     "execution_count": 49,
     "metadata": {},
     "output_type": "execute_result"
    }
   ],
   "source": [
    "x"
   ]
  },
  {
   "cell_type": "code",
   "execution_count": 50,
   "id": "0d9cae8c",
   "metadata": {},
   "outputs": [
    {
     "data": {
      "text/plain": [
       "'HELLO'"
      ]
     },
     "execution_count": 50,
     "metadata": {},
     "output_type": "execute_result"
    }
   ],
   "source": [
    "x.upper()"
   ]
  },
  {
   "cell_type": "code",
   "execution_count": 51,
   "id": "0494594c",
   "metadata": {},
   "outputs": [
    {
     "data": {
      "text/plain": [
       "True"
      ]
     },
     "execution_count": 51,
     "metadata": {},
     "output_type": "execute_result"
    }
   ],
   "source": [
    "x.islower()"
   ]
  },
  {
   "cell_type": "code",
   "execution_count": 52,
   "id": "e5946746",
   "metadata": {},
   "outputs": [
    {
     "ename": "TypeError",
     "evalue": "count() takes at least 1 argument (0 given)",
     "output_type": "error",
     "traceback": [
      "\u001b[1;31m---------------------------------------------------------------------------\u001b[0m",
      "\u001b[1;31mTypeError\u001b[0m                                 Traceback (most recent call last)",
      "\u001b[1;32m~\\AppData\\Local\\Temp/ipykernel_7684/908307605.py\u001b[0m in \u001b[0;36m<module>\u001b[1;34m\u001b[0m\n\u001b[1;32m----> 1\u001b[1;33m \u001b[0mx\u001b[0m\u001b[1;33m.\u001b[0m\u001b[0mcount\u001b[0m\u001b[1;33m(\u001b[0m\u001b[1;33m)\u001b[0m\u001b[1;33m\u001b[0m\u001b[1;33m\u001b[0m\u001b[0m\n\u001b[0m",
      "\u001b[1;31mTypeError\u001b[0m: count() takes at least 1 argument (0 given)"
     ]
    }
   ],
   "source": [
    "x.count()"
   ]
  },
  {
   "cell_type": "code",
   "execution_count": 53,
   "id": "e03f295a",
   "metadata": {},
   "outputs": [
    {
     "ename": "NameError",
     "evalue": "name 'count' is not defined",
     "output_type": "error",
     "traceback": [
      "\u001b[1;31m---------------------------------------------------------------------------\u001b[0m",
      "\u001b[1;31mNameError\u001b[0m                                 Traceback (most recent call last)",
      "\u001b[1;32m~\\AppData\\Local\\Temp/ipykernel_7684/1650971856.py\u001b[0m in \u001b[0;36m<module>\u001b[1;34m\u001b[0m\n\u001b[1;32m----> 1\u001b[1;33m \u001b[0mcount\u001b[0m\u001b[1;33m(\u001b[0m\u001b[0mx\u001b[0m\u001b[1;33m)\u001b[0m\u001b[1;33m\u001b[0m\u001b[1;33m\u001b[0m\u001b[0m\n\u001b[0m",
      "\u001b[1;31mNameError\u001b[0m: name 'count' is not defined"
     ]
    }
   ],
   "source": [
    "count(x)"
   ]
  },
  {
   "cell_type": "code",
   "execution_count": 54,
   "id": "9544bc7d",
   "metadata": {},
   "outputs": [
    {
     "ename": "NameError",
     "evalue": "name 'count' is not defined",
     "output_type": "error",
     "traceback": [
      "\u001b[1;31m---------------------------------------------------------------------------\u001b[0m",
      "\u001b[1;31mNameError\u001b[0m                                 Traceback (most recent call last)",
      "\u001b[1;32m~\\AppData\\Local\\Temp/ipykernel_7684/130609689.py\u001b[0m in \u001b[0;36m<module>\u001b[1;34m\u001b[0m\n\u001b[1;32m----> 1\u001b[1;33m \u001b[0mr\u001b[0m\u001b[1;33m=\u001b[0m\u001b[0mcount\u001b[0m\u001b[1;33m(\u001b[0m\u001b[0mx\u001b[0m\u001b[1;33m)\u001b[0m\u001b[1;33m\u001b[0m\u001b[1;33m\u001b[0m\u001b[0m\n\u001b[0m",
      "\u001b[1;31mNameError\u001b[0m: name 'count' is not defined"
     ]
    }
   ],
   "source": [
    "r=count(x)"
   ]
  },
  {
   "cell_type": "code",
   "execution_count": null,
   "id": "7b17d78f",
   "metadata": {},
   "outputs": [],
   "source": [
    "x='hello word '"
   ]
  },
  {
   "cell_type": "code",
   "execution_count": null,
   "id": "dc28cb47",
   "metadata": {},
   "outputs": [],
   "source": [
    "x.split()"
   ]
  },
  {
   "cell_type": "code",
   "execution_count": null,
   "id": "052621e0",
   "metadata": {},
   "outputs": [],
   "source": [
    "x=\"hello words's\""
   ]
  },
  {
   "cell_type": "code",
   "execution_count": null,
   "id": "95c97947",
   "metadata": {},
   "outputs": [],
   "source": [
    "x.split()"
   ]
  },
  {
   "cell_type": "code",
   "execution_count": null,
   "id": "6f3859b1",
   "metadata": {},
   "outputs": [],
   "source": [
    "x.split(\"'\")"
   ]
  },
  {
   "cell_type": "code",
   "execution_count": null,
   "id": "6eed533e",
   "metadata": {},
   "outputs": [],
   "source": [
    "gh"
   ]
  },
  {
   "cell_type": "markdown",
   "id": "528b7817",
   "metadata": {},
   "source": [
    "formating with .format method\n"
   ]
  },
  {
   "cell_type": "markdown",
   "id": "092d2f22",
   "metadata": {},
   "source": []
  },
  {
   "cell_type": "markdown",
   "id": "7226578f",
   "metadata": {},
   "source": [
    "hh"
   ]
  },
  {
   "cell_type": "markdown",
   "id": "c14e0f7f",
   "metadata": {},
   "source": []
  },
  {
   "cell_type": "markdown",
   "id": "89ae8018",
   "metadata": {},
   "source": []
  },
  {
   "cell_type": "code",
   "execution_count": 55,
   "id": "de382ee2",
   "metadata": {},
   "outputs": [
    {
     "name": "stdout",
     "output_type": "stream",
     "text": [
      "This is a string Inserted\n"
     ]
    }
   ],
   "source": [
    "print('This is a string {}'.format('Inserted'))"
   ]
  },
  {
   "cell_type": "code",
   "execution_count": 57,
   "id": "e8f21137",
   "metadata": {},
   "outputs": [
    {
     "name": "stdout",
     "output_type": "stream",
     "text": [
      "This is beautiful palace ever seen world\n"
     ]
    }
   ],
   "source": [
    "print('This is {} palace {} seen {}'.format('beautiful','ever','world'))"
   ]
  },
  {
   "cell_type": "code",
   "execution_count": 58,
   "id": "1350eb02",
   "metadata": {},
   "outputs": [
    {
     "name": "stdout",
     "output_type": "stream",
     "text": [
      "Addition of 2 number is 9\n"
     ]
    }
   ],
   "source": [
    "print('Addition of {} number is {}'.format('2',9))"
   ]
  },
  {
   "cell_type": "code",
   "execution_count": 59,
   "id": "0f18db64",
   "metadata": {},
   "outputs": [
    {
     "name": "stdout",
     "output_type": "stream",
     "text": [
      "this fox pink colour\n"
     ]
    }
   ],
   "source": [
    "print(\"this {q} {f} {d}\".format(f='pink',q='fox',d='colour'))"
   ]
  },
  {
   "cell_type": "code",
   "execution_count": 60,
   "id": "7eade7a1",
   "metadata": {},
   "outputs": [],
   "source": [
    "result=100/777"
   ]
  },
  {
   "cell_type": "code",
   "execution_count": 61,
   "id": "15938355",
   "metadata": {},
   "outputs": [
    {
     "data": {
      "text/plain": [
       "0.1287001287001287"
      ]
     },
     "execution_count": 61,
     "metadata": {},
     "output_type": "execute_result"
    }
   ],
   "source": [
    "result"
   ]
  },
  {
   "cell_type": "code",
   "execution_count": 70,
   "id": "e38de836",
   "metadata": {},
   "outputs": [
    {
     "name": "stdout",
     "output_type": "stream",
     "text": [
      "results are 0.129 and 0.129\n"
     ]
    }
   ],
   "source": [
    "print('results are {r:2.3f} and {r:0.3f}'.format(r=result))"
   ]
  },
  {
   "cell_type": "markdown",
   "id": "4e5e49b5",
   "metadata": {},
   "source": [
    "String Literals"
   ]
  },
  {
   "cell_type": "code",
   "execution_count": 74,
   "id": "f5b9b432",
   "metadata": {},
   "outputs": [],
   "source": [
    "x='sam'"
   ]
  },
  {
   "cell_type": "code",
   "execution_count": 77,
   "id": "1061ca5a",
   "metadata": {},
   "outputs": [
    {
     "name": "stdout",
     "output_type": "stream",
     "text": [
      "his name is sam\n"
     ]
    }
   ],
   "source": [
    "print(f'his name is {x}')"
   ]
  },
  {
   "cell_type": "code",
   "execution_count": 78,
   "id": "233cf376",
   "metadata": {},
   "outputs": [],
   "source": [
    "age=30"
   ]
  },
  {
   "cell_type": "code",
   "execution_count": 79,
   "id": "315857cd",
   "metadata": {},
   "outputs": [
    {
     "name": "stdout",
     "output_type": "stream",
     "text": [
      "sam is 30 years old\n"
     ]
    }
   ],
   "source": [
    "print(f'{x} is {age} years old')"
   ]
  },
  {
   "cell_type": "code",
   "execution_count": 83,
   "id": "1c977a7e",
   "metadata": {},
   "outputs": [],
   "source": [
    "division=100/77"
   ]
  },
  {
   "cell_type": "code",
   "execution_count": 85,
   "id": "a9811127",
   "metadata": {},
   "outputs": [
    {
     "name": "stdout",
     "output_type": "stream",
     "text": [
      "sam is 30 years old and division value is      1.299\n"
     ]
    }
   ],
   "source": [
    "print(f'{x} is {age} years old and division value is {division:10.3f}')"
   ]
  },
  {
   "cell_type": "code",
   "execution_count": null,
   "id": "df03d023",
   "metadata": {},
   "outputs": [],
   "source": []
  }
 ],
 "metadata": {
  "kernelspec": {
   "display_name": "Python 3 (ipykernel)",
   "language": "python",
   "name": "python3"
  },
  "language_info": {
   "codemirror_mode": {
    "name": "ipython",
    "version": 3
   },
   "file_extension": ".py",
   "mimetype": "text/x-python",
   "name": "python",
   "nbconvert_exporter": "python",
   "pygments_lexer": "ipython3",
   "version": "3.9.7"
  }
 },
 "nbformat": 4,
 "nbformat_minor": 5
}
