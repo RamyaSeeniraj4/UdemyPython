{
 "cells": [
  {
   "cell_type": "code",
   "execution_count": 2,
   "id": "22d3632b",
   "metadata": {},
   "outputs": [],
   "source": [
    "dict={'key1':'value1','key2':'value2'}"
   ]
  },
  {
   "cell_type": "code",
   "execution_count": 3,
   "id": "c6c36fcc",
   "metadata": {},
   "outputs": [
    {
     "data": {
      "text/plain": [
       "{'key1': 'value1', 'key2': 'value2'}"
      ]
     },
     "execution_count": 3,
     "metadata": {},
     "output_type": "execute_result"
    }
   ],
   "source": [
    "dict"
   ]
  },
  {
   "cell_type": "code",
   "execution_count": 4,
   "id": "a6b1625b",
   "metadata": {},
   "outputs": [
    {
     "data": {
      "text/plain": [
       "'value1'"
      ]
     },
     "execution_count": 4,
     "metadata": {},
     "output_type": "execute_result"
    }
   ],
   "source": [
    "dict['key1']"
   ]
  },
  {
   "cell_type": "code",
   "execution_count": 18,
   "id": "de691e39",
   "metadata": {},
   "outputs": [],
   "source": [
    "d={'k1':'value4','k2':['a','b','d','c'],'k3':{'inside':'value6'}}"
   ]
  },
  {
   "cell_type": "code",
   "execution_count": 19,
   "id": "091d5b7c",
   "metadata": {},
   "outputs": [
    {
     "data": {
      "text/plain": [
       "{'k1': 'value4', 'k2': ['a', 'b', 'd', 'c'], 'k3': {'inside': 'value6'}}"
      ]
     },
     "execution_count": 19,
     "metadata": {},
     "output_type": "execute_result"
    }
   ],
   "source": [
    "d"
   ]
  },
  {
   "cell_type": "code",
   "execution_count": 20,
   "id": "651336a2",
   "metadata": {},
   "outputs": [
    {
     "data": {
      "text/plain": [
       "'b'"
      ]
     },
     "execution_count": 20,
     "metadata": {},
     "output_type": "execute_result"
    }
   ],
   "source": [
    "d['k2'][1]"
   ]
  },
  {
   "cell_type": "code",
   "execution_count": 21,
   "id": "c57b0cb3",
   "metadata": {},
   "outputs": [
    {
     "data": {
      "text/plain": [
       "'value6'"
      ]
     },
     "execution_count": 21,
     "metadata": {},
     "output_type": "execute_result"
    }
   ],
   "source": [
    "d['k3']['inside']"
   ]
  },
  {
   "cell_type": "code",
   "execution_count": 22,
   "id": "2d8c4a05",
   "metadata": {},
   "outputs": [],
   "source": [
    "my_list=d['k2']"
   ]
  },
  {
   "cell_type": "code",
   "execution_count": 23,
   "id": "6c642031",
   "metadata": {},
   "outputs": [
    {
     "data": {
      "text/plain": [
       "['a', 'b', 'd', 'c']"
      ]
     },
     "execution_count": 23,
     "metadata": {},
     "output_type": "execute_result"
    }
   ],
   "source": [
    "my_list"
   ]
  },
  {
   "cell_type": "code",
   "execution_count": 24,
   "id": "1a904a4f",
   "metadata": {},
   "outputs": [],
   "source": [
    "my_list.sort()"
   ]
  },
  {
   "cell_type": "code",
   "execution_count": 25,
   "id": "76204a87",
   "metadata": {},
   "outputs": [
    {
     "data": {
      "text/plain": [
       "['a', 'b', 'c', 'd']"
      ]
     },
     "execution_count": 25,
     "metadata": {},
     "output_type": "execute_result"
    }
   ],
   "source": [
    "my_list"
   ]
  },
  {
   "cell_type": "code",
   "execution_count": 26,
   "id": "cf8fb753",
   "metadata": {},
   "outputs": [],
   "source": [
    "myletter=my_list[2]"
   ]
  },
  {
   "cell_type": "code",
   "execution_count": null,
   "id": "d0970dab",
   "metadata": {},
   "outputs": [],
   "source": [
    "myletter"
   ]
  }
 ],
 "metadata": {
  "kernelspec": {
   "display_name": "Python 3 (ipykernel)",
   "language": "python",
   "name": "python3"
  },
  "language_info": {
   "codemirror_mode": {
    "name": "ipython",
    "version": 3
   },
   "file_extension": ".py",
   "mimetype": "text/x-python",
   "name": "python",
   "nbconvert_exporter": "python",
   "pygments_lexer": "ipython3",
   "version": "3.9.7"
  }
 },
 "nbformat": 4,
 "nbformat_minor": 5
}
